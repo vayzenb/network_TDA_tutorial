{
 "cells": [
  {
   "cell_type": "markdown",
   "metadata": {},
   "source": [
    "# Part 2. Notebook for Network and Topological Analysis in Neuroscience\n",
    "\n",
    "Authors: Eduarda Centeno & Fernando Santos\n",
    "    \n",
    "This second part of the project will focus on the 3D visualisations we have developed.\n"
   ]
  },
  {
   "cell_type": "markdown",
   "metadata": {},
   "source": [
    "## Table of contents\n",
    "1. [Imports](#imports)\n",
    "2. [Short recap - importing data & creating graph object](#short-recap)\n",
    "3. [Creating 3D visualisations with Plotly](#3d-visualisation)\n",
    "4. [Acknowledgements](#acknowledgements)"
   ]
  },
  {
   "cell_type": "markdown",
   "metadata": {},
   "source": [
    "<a id='imports'></a>\n",
    "###  **1.** Imports"
   ]
  },
  {
   "cell_type": "code",
   "execution_count": 9,
   "metadata": {},
   "outputs": [],
   "source": [
    "# Basic data manipulation and visualisation libraries\n",
    "import numpy as np\n",
    "import matplotlib.pyplot as plt\n",
    "\n",
    "# Network Libraries\n",
    "import networkx as nx\n",
    "\n",
    "# Magic command to load watermark\n",
    "#%load_ext watermark"
   ]
  },
  {
   "cell_type": "code",
   "execution_count": null,
   "metadata": {},
   "outputs": [],
   "source": [
    "# Print watermark\n",
    "%watermark --author \"Eduarda & Fernando\" --date --time --python --machine --iversion --watermark --packages jupyterlab,notebook"
   ]
  },
  {
   "cell_type": "markdown",
   "metadata": {},
   "source": [
    "<a id='short-recap'></a>\n",
    "### **2.** Short recap - importing data & creating graph object"
   ]
  },
  {
   "cell_type": "code",
   "execution_count": 10,
   "metadata": {},
   "outputs": [],
   "source": [
    "# Import matrix\n",
    "matrix = np.genfromtxt('./1000_Functional_Connectomes/Connectivity matrices/AveragedMatrix.txt')\n",
    "\n",
    "# Absolutise for further user\n",
    "matrix = abs(matrix)\n",
    "\n",
    "# Creating Graph\n",
    "G = nx.from_numpy_array(matrix)\n",
    "\n",
    "# Removing self-loops\n",
    "G.remove_edges_from(list(nx.selfloop_edges(G)))\n",
    "\n",
    "# This function accepts a argument 'distance' that, in correlation-based networks, must be seen as the inverse ... \n",
    "# ... of the weight value. Thus, a high correlation value (e.g. 0.8) means a shorter distance (i.e 0.2).\n",
    "G_distance_dict = {(e1, e2): 1 / abs(weight) for e1, e2, weight in G.edges(data='weight')}\n",
    "\n",
    "# Then add them as attributes to the graph\n",
    "nx.set_edge_attributes(G, G_distance_dict, 'distance')\n",
    "\n",
    "# Create graphs from comparison\n",
    "matrix2 = matrix.copy()\n",
    "matrix3 = matrix.copy()"
   ]
  },
  {
   "cell_type": "markdown",
   "metadata": {},
   "source": [
    "#####  **Important!!**\n",
    "Have a look at the following files to check if they match your matrix's regions (they are called internally in the HCP_Data_Vis.py). If not, you will have to create your own files:\n",
    "\n",
    "    a. *_region_names_abbrev.txt\n",
    "    b. HCP_positions.txt\n",
    "    \n",
    "If you are working with matrices that had regions removed (low signal, tumor mask, etc.), you will have to adapt the files above to take that into account. We aim to soon implement a flexible way of removing regions for this notebook, but it's not done yet. Subnetwork 3D plots will also be available soon."
   ]
  },
  {
   "cell_type": "markdown",
   "metadata": {},
   "source": [
    "<a id='3d-visualisation'></a>\n",
    "### **3.** Creating 3D visualisations with Plotly\n",
    "First, we need to import the necessary backup script.\n",
    "Then, it is possible to use a list of values for most of the nodal metrics, e.g., centralities, etc."
   ]
  },
  {
   "cell_type": "code",
   "execution_count": 11,
   "metadata": {},
   "outputs": [
    {
     "data": {
      "text/html": [
       "        <script type=\"text/javascript\">\n",
       "        window.PlotlyConfig = {MathJaxConfig: 'local'};\n",
       "        if (window.MathJax && window.MathJax.Hub && window.MathJax.Hub.Config) {window.MathJax.Hub.Config({SVG: {font: \"STIX-Web\"}});}\n",
       "        if (typeof require !== 'undefined') {\n",
       "        require.undef(\"plotly\");\n",
       "        requirejs.config({\n",
       "            paths: {\n",
       "                'plotly': ['https://cdn.plot.ly/plotly-2.35.2.min']\n",
       "            }\n",
       "        });\n",
       "        require(['plotly'], function(Plotly) {\n",
       "            window._Plotly = Plotly;\n",
       "        });\n",
       "        }\n",
       "        </script>\n",
       "        "
      ]
     },
     "metadata": {},
     "output_type": "display_data"
    },
    {
     "name": "stderr",
     "output_type": "stream",
     "text": [
      "/mnt/DataDrive3/vlad/git_repos/network_TDA_tutorial/Background Scripts/HCP_Data_Vis.py:1376: MatplotlibDeprecationWarning:\n",
      "\n",
      "The get_cmap function was deprecated in Matplotlib 3.7 and will be removed two minor releases later. Use ``matplotlib.colormaps[name]`` or ``matplotlib.colormaps.get_cmap(obj)`` instead.\n",
      "\n",
      "/mnt/DataDrive3/vlad/git_repos/network_TDA_tutorial/Background Scripts/HCP_Data_Vis.py:1377: MatplotlibDeprecationWarning:\n",
      "\n",
      "The get_cmap function was deprecated in Matplotlib 3.7 and will be removed two minor releases later. Use ``matplotlib.colormaps[name]`` or ``matplotlib.colormaps.get_cmap(obj)`` instead.\n",
      "\n",
      "/mnt/DataDrive3/vlad/git_repos/network_TDA_tutorial/Background Scripts/HCP_Data_Vis.py:1378: MatplotlibDeprecationWarning:\n",
      "\n",
      "The get_cmap function was deprecated in Matplotlib 3.7 and will be removed two minor releases later. Use ``matplotlib.colormaps[name]`` or ``matplotlib.colormaps.get_cmap(obj)`` instead.\n",
      "\n",
      "/mnt/DataDrive3/vlad/git_repos/network_TDA_tutorial/Background Scripts/HCP_Data_Vis.py:1379: MatplotlibDeprecationWarning:\n",
      "\n",
      "The get_cmap function was deprecated in Matplotlib 3.7 and will be removed two minor releases later. Use ``matplotlib.colormaps[name]`` or ``matplotlib.colormaps.get_cmap(obj)`` instead.\n",
      "\n",
      "/mnt/DataDrive3/vlad/git_repos/network_TDA_tutorial/Background Scripts/HCP_Data_Vis.py:1380: MatplotlibDeprecationWarning:\n",
      "\n",
      "The get_cmap function was deprecated in Matplotlib 3.7 and will be removed two minor releases later. Use ``matplotlib.colormaps[name]`` or ``matplotlib.colormaps.get_cmap(obj)`` instead.\n",
      "\n",
      "/mnt/DataDrive3/vlad/git_repos/network_TDA_tutorial/Background Scripts/HCP_Data_Vis.py:1381: MatplotlibDeprecationWarning:\n",
      "\n",
      "The get_cmap function was deprecated in Matplotlib 3.7 and will be removed two minor releases later. Use ``matplotlib.colormaps[name]`` or ``matplotlib.colormaps.get_cmap(obj)`` instead.\n",
      "\n",
      "/mnt/DataDrive3/vlad/git_repos/network_TDA_tutorial/Background Scripts/HCP_Data_Vis.py:1382: MatplotlibDeprecationWarning:\n",
      "\n",
      "The get_cmap function was deprecated in Matplotlib 3.7 and will be removed two minor releases later. Use ``matplotlib.colormaps[name]`` or ``matplotlib.colormaps.get_cmap(obj)`` instead.\n",
      "\n"
     ]
    },
    {
     "ename": "ValueError",
     "evalue": "len(points) = 54284, but len(point_data[\"obj:vn\"]) = 48585",
     "output_type": "error",
     "traceback": [
      "\u001b[0;31m---------------------------------------------------------------------------\u001b[0m",
      "\u001b[0;31mValueError\u001b[0m                                Traceback (most recent call last)",
      "File \u001b[0;32m/mnt/DataDrive3/vlad/git_repos/network_TDA_tutorial/Background Scripts/HCP_Data_Vis.py:1399\u001b[0m\n\u001b[1;32m   1396\u001b[0m areas \u001b[38;5;241m=\u001b[39m [list_areas[\u001b[38;5;241m0\u001b[39m:n_rois,\u001b[38;5;241m0\u001b[39m][i] \u001b[38;5;28;01mfor\u001b[39;00m i \u001b[38;5;129;01min\u001b[39;00m \u001b[38;5;28mrange\u001b[39m(\u001b[38;5;241m0\u001b[39m,n_rois)] \n\u001b[1;32m   1398\u001b[0m \u001b[38;5;66;03m## Create gray shell\u001b[39;00m\n\u001b[0;32m-> 1399\u001b[0m brain_mesh \u001b[38;5;241m=\u001b[39m  \u001b[43mmeshio\u001b[49m\u001b[38;5;241;43m.\u001b[39;49m\u001b[43mread\u001b[49m\u001b[43m(\u001b[49m\u001b[43mpath_brainobj\u001b[49m\u001b[43m)\u001b[49m \u001b[38;5;66;03m# Reading a brain.obj file\u001b[39;00m\n\u001b[1;32m   1400\u001b[0m brain_trace \u001b[38;5;241m=\u001b[39m shell_brain(brain_mesh)\n\u001b[1;32m   1401\u001b[0m trace1, _, _, _ \u001b[38;5;241m=\u001b[39m dictpos(areas, path_pos) \u001b[38;5;66;03m# Transparent shell\u001b[39;00m\n",
      "File \u001b[0;32m~/anaconda3/envs/fmri/lib/python3.12/site-packages/meshio/_helpers.py:71\u001b[0m, in \u001b[0;36mread\u001b[0;34m(filename, file_format)\u001b[0m\n\u001b[1;32m     68\u001b[0m \u001b[38;5;28;01mif\u001b[39;00m is_buffer(filename, \u001b[38;5;124m\"\u001b[39m\u001b[38;5;124mr\u001b[39m\u001b[38;5;124m\"\u001b[39m):\n\u001b[1;32m     69\u001b[0m     \u001b[38;5;28;01mreturn\u001b[39;00m _read_buffer(filename, file_format)\n\u001b[0;32m---> 71\u001b[0m \u001b[38;5;28;01mreturn\u001b[39;00m \u001b[43m_read_file\u001b[49m\u001b[43m(\u001b[49m\u001b[43mPath\u001b[49m\u001b[43m(\u001b[49m\u001b[43mfilename\u001b[49m\u001b[43m)\u001b[49m\u001b[43m,\u001b[49m\u001b[43m \u001b[49m\u001b[43mfile_format\u001b[49m\u001b[43m)\u001b[49m\n",
      "File \u001b[0;32m~/anaconda3/envs/fmri/lib/python3.12/site-packages/meshio/_helpers.py:103\u001b[0m, in \u001b[0;36m_read_file\u001b[0;34m(path, file_format)\u001b[0m\n\u001b[1;32m    100\u001b[0m     \u001b[38;5;28;01mraise\u001b[39;00m ReadError(\u001b[38;5;124mf\u001b[39m\u001b[38;5;124m\"\u001b[39m\u001b[38;5;124mUnknown file format \u001b[39m\u001b[38;5;124m'\u001b[39m\u001b[38;5;132;01m{\u001b[39;00mfile_format\u001b[38;5;132;01m}\u001b[39;00m\u001b[38;5;124m'\u001b[39m\u001b[38;5;124m of \u001b[39m\u001b[38;5;124m'\u001b[39m\u001b[38;5;132;01m{\u001b[39;00mpath\u001b[38;5;132;01m}\u001b[39;00m\u001b[38;5;124m'\u001b[39m\u001b[38;5;124m.\u001b[39m\u001b[38;5;124m\"\u001b[39m)\n\u001b[1;32m    102\u001b[0m \u001b[38;5;28;01mtry\u001b[39;00m:\n\u001b[0;32m--> 103\u001b[0m     \u001b[38;5;28;01mreturn\u001b[39;00m \u001b[43mreader_map\u001b[49m\u001b[43m[\u001b[49m\u001b[43mfile_format\u001b[49m\u001b[43m]\u001b[49m\u001b[43m(\u001b[49m\u001b[38;5;28;43mstr\u001b[39;49m\u001b[43m(\u001b[49m\u001b[43mpath\u001b[49m\u001b[43m)\u001b[49m\u001b[43m)\u001b[49m\n\u001b[1;32m    104\u001b[0m \u001b[38;5;28;01mexcept\u001b[39;00m ReadError \u001b[38;5;28;01mas\u001b[39;00m e:\n\u001b[1;32m    105\u001b[0m     \u001b[38;5;28mprint\u001b[39m(e)\n",
      "File \u001b[0;32m~/anaconda3/envs/fmri/lib/python3.12/site-packages/meshio/obj/_obj.py:19\u001b[0m, in \u001b[0;36mread\u001b[0;34m(filename)\u001b[0m\n\u001b[1;32m     17\u001b[0m \u001b[38;5;28;01mdef\u001b[39;00m \u001b[38;5;21mread\u001b[39m(filename):\n\u001b[1;32m     18\u001b[0m     \u001b[38;5;28;01mwith\u001b[39;00m open_file(filename, \u001b[38;5;124m\"\u001b[39m\u001b[38;5;124mr\u001b[39m\u001b[38;5;124m\"\u001b[39m) \u001b[38;5;28;01mas\u001b[39;00m f:\n\u001b[0;32m---> 19\u001b[0m         mesh \u001b[38;5;241m=\u001b[39m \u001b[43mread_buffer\u001b[49m\u001b[43m(\u001b[49m\u001b[43mf\u001b[49m\u001b[43m)\u001b[49m\n\u001b[1;32m     20\u001b[0m     \u001b[38;5;28;01mreturn\u001b[39;00m mesh\n",
      "File \u001b[0;32m~/anaconda3/envs/fmri/lib/python3.12/site-packages/meshio/obj/_obj.py:99\u001b[0m, in \u001b[0;36mread_buffer\u001b[0;34m(f)\u001b[0m\n\u001b[1;32m     96\u001b[0m         cells\u001b[38;5;241m.\u001b[39mappend(CellBlock(\u001b[38;5;124m\"\u001b[39m\u001b[38;5;124mpolygon\u001b[39m\u001b[38;5;124m\"\u001b[39m, f \u001b[38;5;241m-\u001b[39m \u001b[38;5;241m1\u001b[39m))\n\u001b[1;32m     97\u001b[0m     cell_data[\u001b[38;5;124m\"\u001b[39m\u001b[38;5;124mobj:group_ids\u001b[39m\u001b[38;5;124m\"\u001b[39m]\u001b[38;5;241m.\u001b[39mappend(gid)\n\u001b[0;32m---> 99\u001b[0m \u001b[38;5;28;01mreturn\u001b[39;00m \u001b[43mMesh\u001b[49m\u001b[43m(\u001b[49m\u001b[43mpoints\u001b[49m\u001b[43m,\u001b[49m\u001b[43m \u001b[49m\u001b[43mcells\u001b[49m\u001b[43m,\u001b[49m\u001b[43m \u001b[49m\u001b[43mpoint_data\u001b[49m\u001b[38;5;241;43m=\u001b[39;49m\u001b[43mpoint_data\u001b[49m\u001b[43m,\u001b[49m\u001b[43m \u001b[49m\u001b[43mcell_data\u001b[49m\u001b[38;5;241;43m=\u001b[39;49m\u001b[43mcell_data\u001b[49m\u001b[43m)\u001b[49m\n",
      "File \u001b[0;32m~/anaconda3/envs/fmri/lib/python3.12/site-packages/meshio/_mesh.py:166\u001b[0m, in \u001b[0;36mMesh.__init__\u001b[0;34m(self, points, cells, point_data, cell_data, field_data, point_sets, cell_sets, gmsh_periodic, info)\u001b[0m\n\u001b[1;32m    164\u001b[0m     \u001b[38;5;28mself\u001b[39m\u001b[38;5;241m.\u001b[39mpoint_data[key] \u001b[38;5;241m=\u001b[39m np\u001b[38;5;241m.\u001b[39masarray(item)\n\u001b[1;32m    165\u001b[0m     \u001b[38;5;28;01mif\u001b[39;00m \u001b[38;5;28mlen\u001b[39m(\u001b[38;5;28mself\u001b[39m\u001b[38;5;241m.\u001b[39mpoint_data[key]) \u001b[38;5;241m!=\u001b[39m \u001b[38;5;28mlen\u001b[39m(\u001b[38;5;28mself\u001b[39m\u001b[38;5;241m.\u001b[39mpoints):\n\u001b[0;32m--> 166\u001b[0m         \u001b[38;5;28;01mraise\u001b[39;00m \u001b[38;5;167;01mValueError\u001b[39;00m(\n\u001b[1;32m    167\u001b[0m             \u001b[38;5;124mf\u001b[39m\u001b[38;5;124m\"\u001b[39m\u001b[38;5;124mlen(points) = \u001b[39m\u001b[38;5;132;01m{\u001b[39;00m\u001b[38;5;28mlen\u001b[39m(\u001b[38;5;28mself\u001b[39m\u001b[38;5;241m.\u001b[39mpoints)\u001b[38;5;132;01m}\u001b[39;00m\u001b[38;5;124m, \u001b[39m\u001b[38;5;124m\"\u001b[39m\n\u001b[1;32m    168\u001b[0m             \u001b[38;5;124mf\u001b[39m\u001b[38;5;124m'\u001b[39m\u001b[38;5;124mbut len(point_data[\u001b[39m\u001b[38;5;124m\"\u001b[39m\u001b[38;5;132;01m{\u001b[39;00mkey\u001b[38;5;132;01m}\u001b[39;00m\u001b[38;5;124m\"\u001b[39m\u001b[38;5;124m]) = \u001b[39m\u001b[38;5;132;01m{\u001b[39;00m\u001b[38;5;28mlen\u001b[39m(\u001b[38;5;28mself\u001b[39m\u001b[38;5;241m.\u001b[39mpoint_data[key])\u001b[38;5;132;01m}\u001b[39;00m\u001b[38;5;124m'\u001b[39m\n\u001b[1;32m    169\u001b[0m         )\n\u001b[1;32m    171\u001b[0m \u001b[38;5;66;03m# assert cell data consistency and convert to numpy arrays\u001b[39;00m\n\u001b[1;32m    172\u001b[0m \u001b[38;5;28;01mfor\u001b[39;00m key, data \u001b[38;5;129;01min\u001b[39;00m \u001b[38;5;28mself\u001b[39m\u001b[38;5;241m.\u001b[39mcell_data\u001b[38;5;241m.\u001b[39mitems():\n",
      "\u001b[0;31mValueError\u001b[0m: len(points) = 54284, but len(point_data[\"obj:vn\"]) = 48585"
     ]
    }
   ],
   "source": [
    "%run \"./Background Scripts/HCP_Data_Vis.py\""
   ]
  },
  {
   "cell_type": "markdown",
   "metadata": {},
   "source": [
    "#### Creating graphs based on density"
   ]
  },
  {
   "cell_type": "code",
   "execution_count": 12,
   "metadata": {},
   "outputs": [],
   "source": [
    "## Create sparser graphs for visualisation - just try them and compare!\n",
    "# Create sparser graphs based on threshold value\n",
    "matrix2[matrix2<=0.50] = 0\n",
    "matrix3[matrix3<=0.75] = 0\n",
    "\n",
    "st50G = nx.from_numpy_array(matrix2)\n",
    "st25G = nx.from_numpy_array(matrix3)\n",
    "\n",
    "st50G.remove_edges_from(list(nx.selfloop_edges(st50G)))\n",
    "st25G.remove_edges_from(list(nx.selfloop_edges(st25G)))\n",
    "\n",
    "# Create sparser graphs based on density - 1%, 2.5%, 5% and 10%, respectively \n",
    "sd010G = G_den(matrix, 0.010, verbose=False)\n",
    "sd025G = G_den(matrix, 0.025, verbose=False)\n",
    "sd050G = G_den(matrix, 0.050, verbose=False)\n",
    "sd100G = G_den(matrix, 0.100, verbose=False)"
   ]
  },
  {
   "cell_type": "markdown",
   "metadata": {},
   "source": [
    "#### Let's start with the visualisation of pairwise interactions"
   ]
  },
  {
   "cell_type": "code",
   "execution_count": 13,
   "metadata": {},
   "outputs": [
    {
     "name": "stderr",
     "output_type": "stream",
     "text": [
      "/mnt/DataDrive3/vlad/git_repos/network_TDA_tutorial/Background Scripts/HCP_Data_Vis.py:92: FutureWarning:\n",
      "\n",
      "The 'delim_whitespace' keyword in pd.read_csv is deprecated and will be removed in a future version. Use ``sep='\\s+'`` instead\n",
      "\n"
     ]
    },
    {
     "ename": "NameError",
     "evalue": "name 'brain_trace' is not defined",
     "output_type": "error",
     "traceback": [
      "\u001b[0;31m---------------------------------------------------------------------------\u001b[0m",
      "\u001b[0;31mNameError\u001b[0m                                 Traceback (most recent call last)",
      "Cell \u001b[0;32mIn[13], line 6\u001b[0m\n\u001b[1;32m      2\u001b[0m values \u001b[38;5;241m=\u001b[39m listnet(nx\u001b[38;5;241m.\u001b[39mcloseness_centrality, G, distance\u001b[38;5;241m=\u001b[39m\u001b[38;5;124m'\u001b[39m\u001b[38;5;124mdistance\u001b[39m\u001b[38;5;124m'\u001b[39m)\n\u001b[1;32m      4\u001b[0m \u001b[38;5;66;03m## Visualisation of nodes according to proprieties\u001b[39;00m\n\u001b[1;32m      5\u001b[0m \u001b[38;5;66;03m# This function will plot the 3D brain with both node size and color according to node_prop\u001b[39;00m\n\u001b[0;32m----> 6\u001b[0m \u001b[43mPlot_Brain_Prop\u001b[49m\u001b[43m(\u001b[49m\u001b[43mnode_prop\u001b[49m\u001b[38;5;241;43m=\u001b[39;49m\u001b[43mvalues\u001b[49m\u001b[43m,\u001b[49m\u001b[43m \u001b[49m\u001b[43mscale\u001b[49m\u001b[38;5;241;43m=\u001b[39;49m\u001b[38;5;241;43m5\u001b[39;49m\u001b[43m)\u001b[49m \u001b[38;5;66;03m# the second parameter is necessary to scale the node size\u001b[39;00m\n",
      "File \u001b[0;32m/mnt/DataDrive3/vlad/git_repos/network_TDA_tutorial/Background Scripts/HCP_Data_Vis.py:558\u001b[0m, in \u001b[0;36mPlot_Brain_Prop\u001b[0;34m(node_prop, path_pos, scale, node_colors)\u001b[0m\n\u001b[1;32m    543\u001b[0m     colorV \u001b[38;5;241m=\u001b[39m np\u001b[38;5;241m.\u001b[39marray(node_prop)\n\u001b[1;32m    544\u001b[0m trace2 \u001b[38;5;241m=\u001b[39m go\u001b[38;5;241m.\u001b[39mScatter3d(x\u001b[38;5;241m=\u001b[39mnews\u001b[38;5;241m*\u001b[39mnp\u001b[38;5;241m.\u001b[39marray(x),\n\u001b[1;32m    545\u001b[0m                       y\u001b[38;5;241m=\u001b[39mnews\u001b[38;5;241m*\u001b[39mnp\u001b[38;5;241m.\u001b[39marray(y),\n\u001b[1;32m    546\u001b[0m                       z\u001b[38;5;241m=\u001b[39mnews\u001b[38;5;241m*\u001b[39mnp\u001b[38;5;241m.\u001b[39marray(z),\n\u001b[0;32m   (...)\u001b[0m\n\u001b[1;32m    556\u001b[0m                                   cmin\u001b[38;5;241m=\u001b[39mnp\u001b[38;5;241m.\u001b[39mmin(colorV), cmax\u001b[38;5;241m=\u001b[39mnp\u001b[38;5;241m.\u001b[39mmax(colorV)),\n\u001b[1;32m    557\u001b[0m                       showlegend\u001b[38;5;241m=\u001b[39m\u001b[38;5;28;01mFalse\u001b[39;00m, text\u001b[38;5;241m=\u001b[39mareas, hoverinfo\u001b[38;5;241m=\u001b[39m\u001b[38;5;28;01mNone\u001b[39;00m)\n\u001b[0;32m--> 558\u001b[0m data\u001b[38;5;241m=\u001b[39m[\u001b[43mbrain_trace\u001b[49m, trace1, trace2]\n\u001b[1;32m    559\u001b[0m fig \u001b[38;5;241m=\u001b[39m go\u001b[38;5;241m.\u001b[39mFigure(data\u001b[38;5;241m=\u001b[39mdata)\n\u001b[1;32m    560\u001b[0m \u001b[38;5;66;03m# view\u001b[39;00m\n",
      "\u001b[0;31mNameError\u001b[0m: name 'brain_trace' is not defined"
     ]
    }
   ],
   "source": [
    "# Create list of values for a property\n",
    "values = listnet(nx.closeness_centrality, G, distance='distance')\n",
    "\n",
    "## Visualisation of nodes according to proprieties\n",
    "# This function will plot the 3D brain with both node size and color according to node_prop\n",
    "Plot_Brain_Prop(node_prop=values, scale=5) # the second parameter is necessary to scale the node size"
   ]
  },
  {
   "cell_type": "code",
   "execution_count": null,
   "metadata": {},
   "outputs": [],
   "source": [
    "## It is also possible to give a second property, which will change the color of the nodes\n",
    "\n",
    "# Create a list of a second property\n",
    "values_2 = listnet(nx.eigenvector_centrality, G, weight='weight')\n",
    "\n",
    "# Plot 3D brain with node size accoring to values and node colors according to values_2\n",
    "Plot_Brain_Prop(node_prop=values, scale=5, node_colors=values_2)"
   ]
  },
  {
   "cell_type": "code",
   "execution_count": null,
   "metadata": {},
   "outputs": [],
   "source": [
    "# We have created a degree-specific function for 3D network plotting. \n",
    "# Node size will always represent the degree/strength, node color can be changed.\n",
    "\n",
    "# Plotting with both size and colors according to degree (or strength if weight is True)\n",
    "degree_3D(st50G, scale=0.1, weight=True)"
   ]
  },
  {
   "cell_type": "code",
   "execution_count": null,
   "metadata": {},
   "outputs": [],
   "source": [
    "# Plotting with size according to degree/strength and colors according another property\n",
    "degree_3D(st25G, scale=0.5, weight=True, node_colors=values, color_prop_name='Closeness Centrality')"
   ]
  },
  {
   "cell_type": "code",
   "execution_count": null,
   "metadata": {},
   "outputs": [],
   "source": [
    "# Visualisation of brain modularity\n",
    "Plot_Brain_Mod(G, scale=0.5)"
   ]
  },
  {
   "cell_type": "code",
   "execution_count": null,
   "metadata": {},
   "outputs": [],
   "source": [
    "# Visualisation of brain network Participation Rank\n",
    "dens_value = 0.01 # for plot title\n",
    "clique_size = 2 # this is a line\n",
    "alpha = 0.1\n",
    "plotclique3dk(sd010G, dens_value, clique_size, alpha) # we will use the sd010G to allow a better/clearer visualisation"
   ]
  },
  {
   "cell_type": "markdown",
   "metadata": {},
   "source": [
    "#### Let's now have a look at high-dimensional interactions (TDA)"
   ]
  },
  {
   "cell_type": "code",
   "execution_count": null,
   "metadata": {},
   "outputs": [],
   "source": [
    "# Visualisation of triangles (or 3-cliques)\n",
    "dens_value = 0.01 # for plot title\n",
    "clique_size = 3 # this is a triangle\n",
    "alpha = 0.1\n",
    "plotclique3dk(sd010G, dens_value, clique_size, alpha)"
   ]
  },
  {
   "cell_type": "code",
   "execution_count": null,
   "metadata": {},
   "outputs": [],
   "source": [
    "# Visualisation of tetrahedrons (or 4-cliques)\n",
    "dens_value = 0.025 # for plot title\n",
    "clique_size = 4 # this is a terahedron\n",
    "alpha = 0.05\n",
    "plotclique3dk(sd025G,dens_value, clique_size, alpha)"
   ]
  },
  {
   "cell_type": "code",
   "execution_count": null,
   "metadata": {},
   "outputs": [],
   "source": [
    "# Visualisation of Nodal Curvature\n",
    "dens_value = 0.025 # for plot title\n",
    "plotcurv(sd025G, dens_value)"
   ]
  },
  {
   "cell_type": "markdown",
   "metadata": {},
   "source": [
    "<a id='acknowledgements'></a>\n",
    "\n",
    "## **4.** Acknowledgements\n",
    "\n",
    "The 1000_Functional_Connectomes dataset was downloaded from the [The UCLA multimodal connectivity database](http://umcd.humanconnectomeproject.org/)."
   ]
  }
 ],
 "metadata": {
  "kernelspec": {
   "display_name": "fmri",
   "language": "python",
   "name": "python3"
  },
  "language_info": {
   "codemirror_mode": {
    "name": "ipython",
    "version": 3
   },
   "file_extension": ".py",
   "mimetype": "text/x-python",
   "name": "python",
   "nbconvert_exporter": "python",
   "pygments_lexer": "ipython3",
   "version": "3.12.3"
  }
 },
 "nbformat": 4,
 "nbformat_minor": 4
}
